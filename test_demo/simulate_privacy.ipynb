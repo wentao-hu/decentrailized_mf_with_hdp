{
 "cells": [
  {
   "cell_type": "code",
   "execution_count": 2,
   "metadata": {},
   "outputs": [],
   "source": [
    "import pandas as pd\n",
    "import random\n",
    "import numpy as np\n",
    "from matplotlib import pyplot as plt\n",
    "np.random.seed(0)"
   ]
  },
  {
   "cell_type": "markdown",
   "metadata": {},
   "source": [
    "# 1. simulate the privacy budget distribution"
   ]
  },
  {
   "cell_type": "code",
   "execution_count": 3,
   "metadata": {},
   "outputs": [],
   "source": [
    "grouplist=[\"conservative\",\"moderate\",\"liberal\"]\n",
    "privacy_list=[]\n",
    "for i in range(100000):\n",
    "    group=np.random.choice(grouplist,1,p=[0.54,0.37,0.09])[0]\n",
    "    if group==\"conservative\":\n",
    "        privacy=np.random.uniform(0.01,0.2,1)[0]\n",
    "    elif group==\"moderate\":\n",
    "        privacy=np.random.uniform(0.2,1,1)[0]\n",
    "    else:\n",
    "        privacy=1\n",
    "    privacy_list.append(privacy)\n",
    "    "
   ]
  },
  {
   "cell_type": "code",
   "execution_count": 4,
   "metadata": {},
   "outputs": [
    {
     "data": {
      "text/plain": [
       "(array([2.84223816, 2.80809655, 2.81577336, 2.46142794, 0.46060864,\n",
       "        0.4810128 , 0.46666928, 0.4753562 , 0.44141662, 0.44444694,\n",
       "        0.47879056, 0.46505311, 0.44626513, 0.47737641, 0.45333588,\n",
       "        0.48565929, 0.47555822, 0.46525513, 0.45111364, 2.3066796 ]),\n",
       " array([0.01000555, 0.05950527, 0.109005  , 0.15850472, 0.20800444,\n",
       "        0.25750416, 0.30700389, 0.35650361, 0.40600333, 0.45550305,\n",
       "        0.50500278, 0.5545025 , 0.60400222, 0.65350194, 0.70300167,\n",
       "        0.75250139, 0.80200111, 0.85150083, 0.90100056, 0.95050028,\n",
       "        1.        ]),\n",
       " <a list of 20 Patch objects>)"
      ]
     },
     "execution_count": 4,
     "metadata": {},
     "output_type": "execute_result"
    },
    {
     "data": {
      "image/png": "[encoded data removed]",
      "text/plain": [
       "<Figure size 432x288 with 1 Axes>"
      ]
     },
     "metadata": {
      "needs_background": "light"
     },
     "output_type": "display_data"
    }
   ],
   "source": [
    "plt.hist(privacy_list,bins=20,density=True)"
   ]
  },
  {
   "cell_type": "code",
   "execution_count": 8,
   "metadata": {},
   "outputs": [],
   "source": [
    "v1=[]\n",
    "v2=[]\n",
    "for i in range(1000):\n",
    "    group=np.random.choice(grouplist,1,p=[0.54,0.37,0.09])[0]\n",
    "    if group==\"conservative\":\n",
    "        privacy=np.random.uniform(0.1,0.5,1)[0]\n",
    "    elif group==\"moderate\":\n",
    "        privacy=np.random.uniform(0.5,1,1)[0]\n",
    "    else:\n",
    "        privacy=1\n",
    "    v1.append(privacy)\n",
    "\n",
    "for i in range(1000):\n",
    "    group=np.random.choice(grouplist,1,p=[1/3,1/3,1/3])[0]\n",
    "    if group==\"conservative\":\n",
    "        privacy=np.random.uniform(0.1,0.5,1)[0]\n",
    "    elif group==\"moderate\":\n",
    "        privacy=np.random.uniform(0.5,1,1)[0]\n",
    "    else:\n",
    "        privacy=1\n",
    "    v2.append(privacy)"
   ]
  },
  {
   "cell_type": "code",
   "execution_count": 9,
   "metadata": {},
   "outputs": [],
   "source": [
    "priv_list=[]\n",
    "for i in v1:\n",
    "    for j in v2:\n",
    "        priv_list.append(i*j)"
   ]
  },
  {
   "cell_type": "code",
   "execution_count": 10,
   "metadata": {},
   "outputs": [
    {
     "data": {
      "text/plain": [
       "(array([1.27933183, 2.09655982, 2.31476205, 1.93106958, 1.65282133,\n",
       "        1.43787192, 1.3013743 , 1.04775461, 1.06314999, 0.90422602,\n",
       "        0.59561129, 0.5502333 , 0.5311002 , 0.46157854, 0.4597804 ,\n",
       "        0.3807629 , 0.41702892, 0.31326164, 0.4076341 , 1.05799799]),\n",
       " array([0.01009264, 0.059588  , 0.10908337, 0.15857874, 0.20807411,\n",
       "        0.25756948, 0.30706485, 0.35656021, 0.40605558, 0.45555095,\n",
       "        0.50504632, 0.55454169, 0.60403705, 0.65353242, 0.70302779,\n",
       "        0.75252316, 0.80201853, 0.8515139 , 0.90100926, 0.95050463,\n",
       "        1.        ]),\n",
       " <a list of 20 Patch objects>)"
      ]
     },
     "execution_count": 10,
     "metadata": {},
     "output_type": "execute_result"
    },
    {
     "data": {
      "image/png": "[encoded data removed]",
      "text/plain": [
       "<Figure size 432x288 with 1 Axes>"
      ]
     },
     "metadata": {
      "needs_background": "light"
     },
     "output_type": "display_data"
    }
   ],
   "source": [
    "plt.hist(priv_list,bins=20,density=True)"
   ]
  },
  {
   "cell_type": "markdown",
   "metadata": {},
   "source": [
    "# 2 simulate sampling group by user"
   ]
  },
  {
   "cell_type": "code",
   "execution_count": 6,
   "metadata": {},
   "outputs": [
    {
     "name": "stdout",
     "output_type": "stream",
     "text": [
      "    a   b  c\n",
      "0   1   6  x\n",
      "1   2   7  z\n",
      "2   3   8  y\n",
      "3   4   9  z\n",
      "4   5  10  x\n",
      "5  11  12  y\n",
      "6  22  33  z\n"
     ]
    },
    {
     "data": {
      "text/html": [
       "<div>\n",
       "<style scoped>\n",
       "    .dataframe tbody tr th:only-of-type {\n",
       "        vertical-align: middle;\n",
       "    }\n",
       "\n",
       "    .dataframe tbody tr th {\n",
       "        vertical-align: top;\n",
       "    }\n",
       "\n",
       "    .dataframe thead th {\n",
       "        text-align: right;\n",
       "    }\n",
       "</style>\n",
       "<table border=\"1\" class=\"dataframe\">\n",
       "  <thead>\n",
       "    <tr style=\"text-align: right;\">\n",
       "      <th></th>\n",
       "      <th></th>\n",
       "      <th>a</th>\n",
       "      <th>b</th>\n",
       "      <th>c</th>\n",
       "    </tr>\n",
       "    <tr>\n",
       "      <th>c</th>\n",
       "      <th></th>\n",
       "      <th></th>\n",
       "      <th></th>\n",
       "      <th></th>\n",
       "    </tr>\n",
       "  </thead>\n",
       "  <tbody>\n",
       "    <tr>\n",
       "      <th>x</th>\n",
       "      <th>4</th>\n",
       "      <td>5</td>\n",
       "      <td>10</td>\n",
       "      <td>x</td>\n",
       "    </tr>\n",
       "    <tr>\n",
       "      <th>y</th>\n",
       "      <th>2</th>\n",
       "      <td>3</td>\n",
       "      <td>8</td>\n",
       "      <td>y</td>\n",
       "    </tr>\n",
       "    <tr>\n",
       "      <th rowspan=\"2\" valign=\"top\">z</th>\n",
       "      <th>6</th>\n",
       "      <td>22</td>\n",
       "      <td>33</td>\n",
       "      <td>z</td>\n",
       "    </tr>\n",
       "    <tr>\n",
       "      <th>1</th>\n",
       "      <td>2</td>\n",
       "      <td>7</td>\n",
       "      <td>z</td>\n",
       "    </tr>\n",
       "  </tbody>\n",
       "</table>\n",
       "</div>"
      ],
      "text/plain": [
       "      a   b  c\n",
       "c             \n",
       "x 4   5  10  x\n",
       "y 2   3   8  y\n",
       "z 6  22  33  z\n",
       "  1   2   7  z"
      ]
     },
     "execution_count": 6,
     "metadata": {},
     "output_type": "execute_result"
    }
   ],
   "source": [
    "import pandas as pd\n",
    "import numpy as np\n",
    "np.random.seed(2)\n",
    "test=pd.DataFrame({'a':[1,2,3,4,5,11,22],'b':[6,7,8,9,10,12,33],'c':['x','z','y','z','x','y','z']})\n",
    "print(test)\n",
    "\n",
    "df=test.groupby(test['c']).apply(lambda x:x.sample(frac=0.5))\n",
    "\n",
    "df\n"
   ]
  },
  {
   "cell_type": "code",
   "execution_count": 7,
   "metadata": {},
   "outputs": [],
   "source": [
    "df=df.rename(columns={\"c\":\"rating\"})"
   ]
  },
  {
   "cell_type": "code",
   "execution_count": 8,
   "metadata": {},
   "outputs": [
    {
     "data": {
      "text/html": [
       "<div>\n",
       "<style scoped>\n",
       "    .dataframe tbody tr th:only-of-type {\n",
       "        vertical-align: middle;\n",
       "    }\n",
       "\n",
       "    .dataframe tbody tr th {\n",
       "        vertical-align: top;\n",
       "    }\n",
       "\n",
       "    .dataframe thead th {\n",
       "        text-align: right;\n",
       "    }\n",
       "</style>\n",
       "<table border=\"1\" class=\"dataframe\">\n",
       "  <thead>\n",
       "    <tr style=\"text-align: right;\">\n",
       "      <th></th>\n",
       "      <th>c</th>\n",
       "      <th>level_1</th>\n",
       "      <th>a</th>\n",
       "      <th>b</th>\n",
       "      <th>rating</th>\n",
       "    </tr>\n",
       "  </thead>\n",
       "  <tbody>\n",
       "    <tr>\n",
       "      <th>0</th>\n",
       "      <td>x</td>\n",
       "      <td>4</td>\n",
       "      <td>5</td>\n",
       "      <td>10</td>\n",
       "      <td>x</td>\n",
       "    </tr>\n",
       "    <tr>\n",
       "      <th>1</th>\n",
       "      <td>y</td>\n",
       "      <td>2</td>\n",
       "      <td>3</td>\n",
       "      <td>8</td>\n",
       "      <td>y</td>\n",
       "    </tr>\n",
       "    <tr>\n",
       "      <th>2</th>\n",
       "      <td>z</td>\n",
       "      <td>6</td>\n",
       "      <td>22</td>\n",
       "      <td>33</td>\n",
       "      <td>z</td>\n",
       "    </tr>\n",
       "    <tr>\n",
       "      <th>3</th>\n",
       "      <td>z</td>\n",
       "      <td>1</td>\n",
       "      <td>2</td>\n",
       "      <td>7</td>\n",
       "      <td>z</td>\n",
       "    </tr>\n",
       "  </tbody>\n",
       "</table>\n",
       "</div>"
      ],
      "text/plain": [
       "   c  level_1   a   b rating\n",
       "0  x        4   5  10      x\n",
       "1  y        2   3   8      y\n",
       "2  z        6  22  33      z\n",
       "3  z        1   2   7      z"
      ]
     },
     "execution_count": 8,
     "metadata": {},
     "output_type": "execute_result"
    }
   ],
   "source": [
    "df=df.reset_index()"
   ]
  },
  {
   "cell_type": "code",
   "execution_count": 9,
   "metadata": {},
   "outputs": [],
   "source": [
    "test=df.groupby(\"rating\").sample(n=1,random_state=1)"
   ]
  },
  {
   "cell_type": "code",
   "execution_count": 10,
   "metadata": {},
   "outputs": [
    {
     "data": {
      "text/html": [
       "<div>\n",
       "<style scoped>\n",
       "    .dataframe tbody tr th:only-of-type {\n",
       "        vertical-align: middle;\n",
       "    }\n",
       "\n",
       "    .dataframe tbody tr th {\n",
       "        vertical-align: top;\n",
       "    }\n",
       "\n",
       "    .dataframe thead th {\n",
       "        text-align: right;\n",
       "    }\n",
       "</style>\n",
       "<table border=\"1\" class=\"dataframe\">\n",
       "  <thead>\n",
       "    <tr style=\"text-align: right;\">\n",
       "      <th></th>\n",
       "      <th></th>\n",
       "      <th>a</th>\n",
       "      <th>b</th>\n",
       "      <th>rating</th>\n",
       "    </tr>\n",
       "    <tr>\n",
       "      <th>c</th>\n",
       "      <th></th>\n",
       "      <th></th>\n",
       "      <th></th>\n",
       "      <th></th>\n",
       "    </tr>\n",
       "  </thead>\n",
       "  <tbody>\n",
       "    <tr>\n",
       "      <th>x</th>\n",
       "      <th>4</th>\n",
       "      <td>5</td>\n",
       "      <td>10</td>\n",
       "      <td>x</td>\n",
       "    </tr>\n",
       "    <tr>\n",
       "      <th>y</th>\n",
       "      <th>2</th>\n",
       "      <td>3</td>\n",
       "      <td>8</td>\n",
       "      <td>y</td>\n",
       "    </tr>\n",
       "    <tr>\n",
       "      <th>z</th>\n",
       "      <th>6</th>\n",
       "      <td>22</td>\n",
       "      <td>33</td>\n",
       "      <td>z</td>\n",
       "    </tr>\n",
       "  </tbody>\n",
       "</table>\n",
       "</div>"
      ],
      "text/plain": [
       "      a   b rating\n",
       "c                 \n",
       "x 4   5  10      x\n",
       "y 2   3   8      y\n",
       "z 6  22  33      z"
      ]
     },
     "execution_count": 10,
     "metadata": {},
     "output_type": "execute_result"
    }
   ],
   "source": [
    "test"
   ]
  }
 ],
 "metadata": {
  "interpreter": {
   "hash": "1ca2beb557775640ecababf0de9457547ff37eb8b1330167bfedf8cc1559d306"
  },
  "kernelspec": {
   "display_name": "Python 3.8.3 64-bit ('base': conda)",
   "language": "python",
   "name": "python3"
  },
  "language_info": {
   "codemirror_mode": {
    "name": "ipython",
    "version": 3
   },
   "file_extension": ".py",
   "mimetype": "text/x-python",
   "name": "python",
   "nbconvert_exporter": "python",
   "pygments_lexer": "ipython3",
   "version": "3.8.3"
  },
  "orig_nbformat": 4
 },
 "nbformat": 4,
 "nbformat_minor": 2
}
